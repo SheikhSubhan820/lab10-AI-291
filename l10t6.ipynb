{
 "cells": [
  {
   "cell_type": "code",
   "execution_count": 1,
   "id": "496850ea-ad85-46f6-b407-8b2ddfb25c45",
   "metadata": {},
   "outputs": [
    {
     "name": "stdout",
     "output_type": "stream",
     "text": [
      "[4]\n",
      "[8, 4]\n",
      "[8, 4, 1]\n",
      "[8, 7, 1, 4]\n",
      "[8, 7, 1, 4, 3]\n"
     ]
    }
   ],
   "source": [
    "import heapq\n",
    "\n",
    "def insert_max_priority_queue(arr):\n",
    "    max_heap = []  \n",
    "\n",
    "    for num in arr:\n",
    "        heapq.heappush(max_heap, -num)\n",
    "\n",
    "        print([-x for x in max_heap]) \n",
    "\n",
    "arr = [4, 8, 1, 7, 3]\n",
    "insert_max_priority_queue(arr)\n"
   ]
  },
  {
   "cell_type": "code",
   "execution_count": null,
   "id": "63eb6835-4010-43a8-a73d-3132a66c62e1",
   "metadata": {},
   "outputs": [],
   "source": []
  }
 ],
 "metadata": {
  "kernelspec": {
   "display_name": "Python 3 (ipykernel)",
   "language": "python",
   "name": "python3"
  },
  "language_info": {
   "codemirror_mode": {
    "name": "ipython",
    "version": 3
   },
   "file_extension": ".py",
   "mimetype": "text/x-python",
   "name": "python",
   "nbconvert_exporter": "python",
   "pygments_lexer": "ipython3",
   "version": "3.12.7"
  }
 },
 "nbformat": 4,
 "nbformat_minor": 5
}
