{
 "cells": [
  {
   "cell_type": "code",
   "execution_count": 1,
   "id": "2e5e5d48-af51-4c33-b07c-9063352dd958",
   "metadata": {},
   "outputs": [
    {
     "name": "stdout",
     "output_type": "stream",
     "text": [
      "Dear Alauddin,\n",
      "I would be honored to invite you to dinner!\n",
      "Looking forward to your company.\n",
      "\n",
      "Dear Mujahid,\n",
      "I would be honored to invite you to dinner!\n",
      "Looking forward to your company.\n",
      "\n",
      "Dear Murtaza,\n",
      "I would be honored to invite you to dinner!\n",
      "Looking forward to your company.\n",
      "\n"
     ]
    }
   ],
   "source": [
    "Guests_LIST = [\"Alauddin\", \"Mujahid\", \"Murtaza\"]\n",
    "\n",
    "for guest in Guests_LIST :\n",
    "    print(f\"Dear {guest},\\nI would be honored to invite you to dinner!\\nLooking forward to your company.\\n\")\n"
   ]
  },
  {
   "cell_type": "code",
   "execution_count": null,
   "id": "a4ae5948-4d1e-4f3e-8c93-048147847e9a",
   "metadata": {},
   "outputs": [],
   "source": []
  }
 ],
 "metadata": {
  "kernelspec": {
   "display_name": "Python 3 (ipykernel)",
   "language": "python",
   "name": "python3"
  },
  "language_info": {
   "codemirror_mode": {
    "name": "ipython",
    "version": 3
   },
   "file_extension": ".py",
   "mimetype": "text/x-python",
   "name": "python",
   "nbconvert_exporter": "python",
   "pygments_lexer": "ipython3",
   "version": "3.12.7"
  }
 },
 "nbformat": 4,
 "nbformat_minor": 5
}
