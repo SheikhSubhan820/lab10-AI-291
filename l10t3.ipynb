{
 "cells": [
  {
   "cell_type": "code",
   "execution_count": 3,
   "id": "ea1cac56-d61a-40b3-89e2-82c203d26c9c",
   "metadata": {},
   "outputs": [
    {
     "name": "stdout",
     "output_type": "stream",
     "text": [
      "Updated Invitation Messages:\n",
      "Dear Ali,\n",
      "I would be honored to invite you to dinner!\n",
      "Looking forward to your company.\n",
      "\n",
      "Dear Zain,\n",
      "I would be honored to invite you to dinner!\n",
      "Looking forward to your company.\n",
      "\n",
      "Dear Hamid,\n",
      "I would be honored to invite you to dinner!\n",
      "Looking forward to your company.\n",
      "\n"
     ]
    }
   ],
   "source": [
    "dinner_guests = [\"Ali\", \"Zain\", \"Jawad\"]\n",
    "\n",
    "dinner_guests[2] = \"Hamid\"  \n",
    "\n",
    "print(\"Updated Invitation Messages:\")\n",
    "for guest in dinner_guests:\n",
    "    print(f\"Dear {guest},\\nI would be honored to invite you to dinner!\\nLooking forward to your company.\\n\")\n"
   ]
  },
  {
   "cell_type": "code",
   "execution_count": null,
   "id": "49b11811-eb30-4aa5-b986-ff9ce84a43ae",
   "metadata": {},
   "outputs": [],
   "source": []
  }
 ],
 "metadata": {
  "kernelspec": {
   "display_name": "Python 3 (ipykernel)",
   "language": "python",
   "name": "python3"
  },
  "language_info": {
   "codemirror_mode": {
    "name": "ipython",
    "version": 3
   },
   "file_extension": ".py",
   "mimetype": "text/x-python",
   "name": "python",
   "nbconvert_exporter": "python",
   "pygments_lexer": "ipython3",
   "version": "3.12.7"
  }
 },
 "nbformat": 4,
 "nbformat_minor": 5
}
