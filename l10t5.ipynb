{
 "cells": [
  {
   "cell_type": "code",
   "execution_count": 5,
   "id": "a5510178-c348-4929-af33-3866cb068555",
   "metadata": {},
   "outputs": [
    {
     "name": "stdout",
     "output_type": "stream",
     "text": [
      "Items in LIFO order:\n",
      "80\n",
      "70\n",
      "60\n"
     ]
    }
   ],
   "source": [
    "import queue\n",
    "\n",
    "lifo_queue = queue.LifoQueue()\n",
    "\n",
    "lifo_queue.put('60')\n",
    "lifo_queue.put('70')\n",
    "lifo_queue.put('80')\n",
    "\n",
    "print(\"Items in LIFO order:\")\n",
    "while not lifo_queue.empty():\n",
    "    item = lifo_queue.get()\n",
    "    print(item)\n"
   ]
  },
  {
   "cell_type": "code",
   "execution_count": null,
   "id": "6c418fd9-3599-4bee-a2c2-ad326b29a001",
   "metadata": {},
   "outputs": [],
   "source": []
  }
 ],
 "metadata": {
  "kernelspec": {
   "display_name": "Python 3 (ipykernel)",
   "language": "python",
   "name": "python3"
  },
  "language_info": {
   "codemirror_mode": {
    "name": "ipython",
    "version": 3
   },
   "file_extension": ".py",
   "mimetype": "text/x-python",
   "name": "python",
   "nbconvert_exporter": "python",
   "pygments_lexer": "ipython3",
   "version": "3.12.7"
  }
 },
 "nbformat": 4,
 "nbformat_minor": 5
}
